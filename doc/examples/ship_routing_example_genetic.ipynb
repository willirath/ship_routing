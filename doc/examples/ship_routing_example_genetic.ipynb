{
 "cells": [
  {
   "cell_type": "markdown",
   "id": "d90c355c-5c81-45e8-9187-36d6ed8e14f6",
   "metadata": {},
   "source": [
    "# Example optimisation with stochastic nonlocal modifications and gradient descent"
   ]
  },
  {
   "cell_type": "markdown",
   "id": "c6e26ba7-934a-4b7f-add8-e2a8379273f9",
   "metadata": {},
   "source": [
    "## Imports"
   ]
  },
  {
   "cell_type": "code",
   "execution_count": null,
   "id": "90da9050-691d-4f02-82fb-2ef321fec287",
   "metadata": {},
   "outputs": [],
   "source": [
    "import warnings\n",
    "warnings.filterwarnings(\"ignore\")"
   ]
  },
  {
   "cell_type": "code",
   "execution_count": null,
   "id": "d9a04039-fc4f-4106-8313-41bd7c156785",
   "metadata": {
    "scrolled": true
   },
   "outputs": [],
   "source": [
    "import time\n",
    "tic = time.time()"
   ]
  },
  {
   "cell_type": "code",
   "execution_count": null,
   "id": "9d4ba3e5-e30c-442c-9a7d-fd0b3eadbf90",
   "metadata": {},
   "outputs": [],
   "source": [
    "from ship_routing.core import Route, WayPoint\n",
    "from ship_routing.data import (\n",
    "    load_currents,\n",
    "    load_winds,\n",
    "    load_waves,\n",
    ")\n",
    "from ship_routing.convenience import (\n",
    "    create_route, stochastic_search, gradient_descent, Logs, LogsRoute\n",
    ")\n",
    "from ship_routing.algorithms import (\n",
    "    crossover_routes_minimal_cost,\n",
    "    crossover_routes_random,\n",
    ")"
   ]
  },
  {
   "cell_type": "code",
   "execution_count": null,
   "id": "62fb80ce-ac9f-45be-bd0f-d8824bdece67",
   "metadata": {},
   "outputs": [],
   "source": [
    "from matplotlib import pyplot as plt\n",
    "import numpy as np\n",
    "import pandas as pd\n",
    "from copy import deepcopy\n",
    "import tqdm\n",
    "from random import choice\n",
    "import xarray as xr\n",
    "import shapely"
   ]
  },
  {
   "cell_type": "markdown",
   "id": "e34c4e59-cf9a-4ce4-a024-2165eb34d502",
   "metadata": {},
   "source": [
    "## Parameters"
   ]
  },
  {
   "cell_type": "code",
   "execution_count": null,
   "id": "eb384c22-fa3a-44e6-a0c6-8959ce8394e3",
   "metadata": {
    "editable": true,
    "slideshow": {
     "slide_type": ""
    },
    "tags": [
     "parameters"
    ]
   },
   "outputs": [],
   "source": [
    "population_size = 512\n",
    "\n",
    "# reproducibility\n",
    "random_seed = 345\n",
    "\n",
    "# data sources\n",
    "current_data_store = \"/gxfs_work/geomar/smomw122/2024_ship_routing/ship_routing_data/data/cmems_mod_glo_phy_my_0.083deg_P1D-m_time_2021_lat_+10_+65_lon_-100_+010_uo-vo.zarr/\"\n",
    "wave_data_store = \"/gxfs_work/geomar/smomw122/2024_ship_routing/ship_routing_data/data/cmems_mod_glo_wav_my_0.2deg_PT3H-i_time_2021_lat_+10_+65_lon_-100_+010_VHM0-VMDR.zarr/\"\n",
    "wind_data_store = \"/gxfs_work/geomar/smomw122/2024_ship_routing/ship_routing_data/data/cmems_obs-wind_glo_phy_my_l4_0.125deg_PT1H_time_2021_lat_+10_+65_lon_-100_+010_eastward_wind-northward_wind.zarr/\"\n",
    "\n",
    "# initial route\n",
    "lon_waypoints = [-80.5, -12.0]\n",
    "lat_waypoints = [30.0, 45.0]\n",
    "time_start = \"2021-08-01T12:00\"\n",
    "time_end = None\n",
    "speed_knots = 12.0  # either one time and speed or both times needed\n",
    "time_resolution_hours = 12.0\n",
    "\n",
    "# stochastic search parameters\n",
    "stoch_num_generations = 4\n",
    "stoch_number_of_iterations = 1\n",
    "stoch_acceptance_rate_target = 0.01\n",
    "stoch_warmup_acceptance_rate = 0.3\n",
    "\n",
    "# experiment id\n",
    "experiment_id = 2\n",
    "\n",
    "scheduler_file =  None\n",
    "dask_n_workers = 1"
   ]
  },
  {
   "cell_type": "code",
   "execution_count": null,
   "id": "740bb559-19f0-4714-99f2-23f09fafe917",
   "metadata": {},
   "outputs": [],
   "source": [
    "np.random.seed(random_seed)"
   ]
  },
  {
   "cell_type": "markdown",
   "id": "5c159a6e-c423-4a70-8478-8a786a723b43",
   "metadata": {},
   "source": [
    "## Define a route"
   ]
  },
  {
   "cell_type": "code",
   "execution_count": null,
   "id": "7277dfcc-570e-421e-92a2-43eb71a45e9d",
   "metadata": {},
   "outputs": [],
   "source": [
    "route_0 = create_route(\n",
    "    lon_waypoints=lon_waypoints,\n",
    "    lat_waypoints=lat_waypoints,\n",
    "    time_start=time_start,\n",
    "    time_end=time_end,\n",
    "    speed_knots=speed_knots,\n",
    "    time_resolution_hours=time_resolution_hours,\n",
    ")\n",
    "\n",
    "route_0"
   ]
  },
  {
   "cell_type": "code",
   "execution_count": null,
   "id": "d97d52f7-4eae-4d4c-8a79-881a11b83207",
   "metadata": {},
   "outputs": [],
   "source": [
    "print(\"speed (m/s)\", np.mean([l.speed_ms for l in route_0.legs]))"
   ]
  },
  {
   "cell_type": "markdown",
   "id": "88c62640-dcfd-44ac-8b1b-ba9791e7adc2",
   "metadata": {},
   "source": [
    "## Load and plot currents, winds, waves"
   ]
  },
  {
   "cell_type": "code",
   "execution_count": null,
   "id": "7afb094c-193b-4533-bb73-bcce796dceac",
   "metadata": {},
   "outputs": [],
   "source": [
    "currents = load_currents(\n",
    "    data_file=current_data_store,\n",
    "    engine=\"zarr\",\n",
    "    chunks=\"auto\",\n",
    ")\n",
    "currents[\"speed\"] = ((currents.to_array() ** 2).sum(\"variable\") ** 0.5).where(\n",
    "    ~currents.uo.isnull()\n",
    ")\n",
    "\n",
    "currents"
   ]
  },
  {
   "cell_type": "code",
   "execution_count": null,
   "id": "d09ae07e-c1d6-4aae-becf-d481441c5aaf",
   "metadata": {},
   "outputs": [],
   "source": [
    "winds = load_winds(\n",
    "    data_file=wind_data_store,\n",
    "    engine=\"zarr\",\n",
    "    chunks=\"auto\",\n",
    ")\n",
    "winds[\"speed\"] = ((winds.to_array() ** 2).sum(\"variable\") ** 0.5).where(\n",
    "    ~winds.uw.isnull()\n",
    ")\n",
    "winds = winds"
   ]
  },
  {
   "cell_type": "code",
   "execution_count": null,
   "id": "799a4339-d508-49de-a574-5337d2a35773",
   "metadata": {},
   "outputs": [],
   "source": [
    "waves = load_waves(\n",
    "    data_file=wave_data_store,\n",
    "    engine=\"zarr\",\n",
    "    chunks=\"auto\",\n",
    ")\n",
    "\n",
    "waves = waves"
   ]
  },
  {
   "cell_type": "markdown",
   "id": "786c3ef4-96d0-4764-a3f2-a6cbfff867fe",
   "metadata": {},
   "source": [
    "## Subset for the route"
   ]
  },
  {
   "cell_type": "code",
   "execution_count": null,
   "id": "7ef70386-fd71-4f97-9621-cbd7e01444cf",
   "metadata": {},
   "outputs": [],
   "source": [
    "%time currents = currents.sel(time=slice(route_0.way_points[0].time, route_0.way_points[-1].time)).compute()\n",
    "%time winds = winds.sel(time=slice(route_0.way_points[0].time, route_0.way_points[-1].time)).compute()\n",
    "%time waves = waves.sel(time=slice(route_0.way_points[0].time, route_0.way_points[-1].time)).compute()"
   ]
  },
  {
   "cell_type": "code",
   "execution_count": null,
   "id": "f853bcbe-07aa-4e54-9ef9-97e9401f60db",
   "metadata": {},
   "outputs": [],
   "source": [
    "fig, ax = plt.subplots(1, 3, figsize=(12, 3))\n",
    "\n",
    "fig.set_dpi(200)\n",
    "\n",
    "currents.speed.mean(\"time\").plot(ax=ax[0])\n",
    "winds.speed.mean(\"time\").plot(ax=ax[1])\n",
    "waves.wh.mean(\"time\").plot(ax=ax[2])\n",
    "\n",
    "for _ax in ax.flatten():\n",
    "    route_0.data_frame.plot.line(\n",
    "        x=\"lon\", y=\"lat\", marker=\".\", ax=_ax, color=\"violet\", label=\"route_0\"\n",
    "    )\n",
    "\n",
    "fig.tight_layout();"
   ]
  },
  {
   "cell_type": "code",
   "execution_count": null,
   "id": "73af042c-9f76-48bf-8da5-94ff52b5e578",
   "metadata": {},
   "outputs": [],
   "source": [
    "currents.compute().drop_encoding().to_netcdf(f\"{experiment_id}_currents.nc\")\n",
    "winds.compute().drop_encoding().to_netcdf(f\"{experiment_id}_winds.nc\")\n",
    "waves.compute().drop_encoding().to_netcdf(f\"{experiment_id}_waves.nc\")"
   ]
  },
  {
   "cell_type": "markdown",
   "id": "9bdcf38d-1709-439d-ac22-33ecd6bc546f",
   "metadata": {},
   "source": [
    "## Concurrency"
   ]
  },
  {
   "cell_type": "code",
   "execution_count": null,
   "id": "ea8950c9-f269-4ed5-a4b4-a16ace494d2a",
   "metadata": {},
   "outputs": [],
   "source": [
    "from dask import delayed"
   ]
  },
  {
   "cell_type": "code",
   "execution_count": null,
   "id": "b21ef334-3dd6-4a48-bab1-a310d3403494",
   "metadata": {},
   "outputs": [],
   "source": [
    "from ship_routing.data import HashableDataset\n",
    "\n",
    "@delayed \n",
    "def load_data(filename):\n",
    "    return HashableDataset(xr.open_dataset(filename).compute())"
   ]
  },
  {
   "cell_type": "code",
   "execution_count": null,
   "id": "0e4c9fa6-bcac-432e-aa83-5080d4145a31",
   "metadata": {},
   "outputs": [],
   "source": [
    "@delayed\n",
    "def stochastic_search_delayed(logs_routes, mod_width=None, max_move_meters=None, **kwargs):\n",
    "    route = logs_routes.route\n",
    "    if mod_width is None:\n",
    "        mod_width = np.random.uniform(0, 1) * route.length_meters\n",
    "    if max_move_meters is None:\n",
    "        max_move_meters = 0.75 * mod_width\n",
    "    _route, _logs_routes = stochastic_search(\n",
    "        route=route,\n",
    "        mod_width=mod_width,\n",
    "        max_move_meters=max_move_meters,\n",
    "        acceptance_rate_target=0,\n",
    "        **kwargs,\n",
    "    )\n",
    "    return _logs_routes[-1]"
   ]
  },
  {
   "cell_type": "code",
   "execution_count": null,
   "id": "b05e7a1a-99a6-4810-89fa-de7334ecf83b",
   "metadata": {},
   "outputs": [],
   "source": [
    "@delayed\n",
    "def select_cheaper(logs_routes_0, logs_routes_1, chance=0.2):\n",
    "    if (\n",
    "        (logs_routes_0.logs.cost < logs_routes_1.logs.cost)\n",
    "        or (np.random.uniform(0, 1) < chance)\n",
    "    ):\n",
    "        return logs_routes_0\n",
    "    else:\n",
    "        return logs_routes_1"
   ]
  },
  {
   "cell_type": "code",
   "execution_count": null,
   "id": "7be98283-3dd8-4df2-9386-2337e5ff992d",
   "metadata": {},
   "outputs": [],
   "source": [
    "@delayed\n",
    "def crossover_routes_random_del(r0, r1, currents=None, winds=None, waves=None):\n",
    "    try:\n",
    "        rc = crossover_routes_random(r0.route, r1.route)\n",
    "        cost = rc.cost_through(\n",
    "            current_data_set=currents,\n",
    "            wind_data_set=winds,\n",
    "            wave_data_set=waves,\n",
    "        )\n",
    "        return LogsRoute(route=rc, logs=Logs(cost=cost, method=\"crossover_random\"))\n",
    "    except:\n",
    "        if np.random.rand() > 0.5:\n",
    "            return r0\n",
    "        else:\n",
    "            return r1"
   ]
  },
  {
   "cell_type": "raw",
   "id": "55aa6f9f-8a17-41b9-ac11-432cfcdbe655",
   "metadata": {},
   "source": [
    "@delayed\n",
    "def crossover_routes_minimal_cost_del(r0, r1, currents=None, winds=None, waves=None):\n",
    "    try:\n",
    "        return LogsRoute(\n",
    "            route=crossover_routes_minimal_cost(\n",
    "                r0.route, r1.route,\n",
    "                currents=currents,\n",
    "                winds=winds,\n",
    "                waves=waves,\n",
    "            ),\n",
    "            logs=Logs(),\n",
    "        )\n",
    "    except:\n",
    "        if r0.logs.cost < r1.logs.cost:\n",
    "            return r0\n",
    "        else:\n",
    "            return r1"
   ]
  },
  {
   "cell_type": "markdown",
   "id": "1a8a0a4e-6924-459f-872b-97844bc77f7d",
   "metadata": {},
   "source": [
    "## Create Dask Cluster"
   ]
  },
  {
   "cell_type": "code",
   "execution_count": null,
   "id": "2d5f0f42-e8fe-44d5-adb7-3101237e0469",
   "metadata": {},
   "outputs": [],
   "source": [
    "from dask.distributed import Client, Scheduler"
   ]
  },
  {
   "cell_type": "code",
   "execution_count": null,
   "id": "b7967ddf-7435-407a-a703-461d5b3a3a08",
   "metadata": {},
   "outputs": [],
   "source": [
    "if scheduler_file is None:\n",
    "    client = Client(threads_per_worker=1, n_workers=dask_n_workers, ip=\"0.0.0.0\")\n",
    "else:\n",
    "    client = Client(scheduler_file=scheduler_file)\n",
    "display(client)"
   ]
  },
  {
   "cell_type": "markdown",
   "id": "a0e43f90-afb0-48fe-a71d-52e57d94cb98",
   "metadata": {},
   "source": [
    "## Define currents"
   ]
  },
  {
   "cell_type": "code",
   "execution_count": null,
   "id": "768dc33d-9fcf-4ab0-add8-40e932cffc90",
   "metadata": {},
   "outputs": [],
   "source": [
    "_currents = load_data(f\"{experiment_id}_currents.nc\")\n",
    "_winds = load_data(f\"{experiment_id}_winds.nc\")\n",
    "_waves = load_data(f\"{experiment_id}_waves.nc\")"
   ]
  },
  {
   "cell_type": "markdown",
   "id": "8c7fdbd0-a13b-46f3-aa83-9f42dac0c1aa",
   "metadata": {},
   "source": [
    "## Create population"
   ]
  },
  {
   "cell_type": "code",
   "execution_count": null,
   "id": "2ac29edc-ee61-49fb-92e6-ee83e8f3d5e8",
   "metadata": {},
   "outputs": [],
   "source": [
    "population = [LogsRoute(logs=Logs(), route=route_0) for _ in range(population_size)]"
   ]
  },
  {
   "cell_type": "code",
   "execution_count": null,
   "id": "8725f8d0-9fa1-4c3a-848a-f91cb3827f88",
   "metadata": {},
   "outputs": [],
   "source": [
    "len_0 = route_0.length_meters"
   ]
  },
  {
   "cell_type": "markdown",
   "id": "bb302a8b-79ec-4acd-aef5-37288152b79a",
   "metadata": {},
   "source": [
    "## Run generations of stochastic search"
   ]
  },
  {
   "cell_type": "code",
   "execution_count": null,
   "id": "7bff4cae-040f-4194-8d5a-73536c5a439b",
   "metadata": {},
   "outputs": [],
   "source": [
    "%%time\n",
    "\n",
    "generations = [population]\n",
    "for ngen in tqdm.tqdm(range(stoch_num_generations + 1)):\n",
    "\n",
    "    # delay population\n",
    "    population = [delayed(p) for p in population]\n",
    "\n",
    "    # cleanup dask cluster\n",
    "    time.sleep(2.0)\n",
    "    client.restart()\n",
    "    time.sleep(2.0)\n",
    "\n",
    "    # warmup if first generation\n",
    "    # (This accepts a fraction of `stoch_warmup_acceptance_rate` modification if it leads to a valid route.)\n",
    "    if ngen == 0:\n",
    "        population = [\n",
    "            stochastic_search_delayed(\n",
    "                logs_routes=lr,\n",
    "                number_of_iterations=1,\n",
    "                acceptance_rate_for_increase_cost=stoch_warmup_acceptance_rate,\n",
    "                mod_width=len_0,\n",
    "                max_move_meters=0.75 * len_0,\n",
    "                current_data_set=_currents,\n",
    "                wave_data_set=_waves,\n",
    "                wind_data_set=_winds,\n",
    "            )\n",
    "            for lr in population\n",
    "        ]\n",
    "\n",
    "    # stochastic search\n",
    "    population = [\n",
    "        stochastic_search_delayed(\n",
    "            logs_routes=lr,\n",
    "            number_of_iterations=1,\n",
    "            refinement_factor=0.7,\n",
    "            acceptance_rate_for_increase_cost=0.0,\n",
    "            mod_width=len_0,\n",
    "            max_move_meters=0.75 * len_0,\n",
    "            current_data_set=_currents,\n",
    "            wave_data_set=_waves,\n",
    "            wind_data_set=_winds,\n",
    "        )\n",
    "        for lr in population\n",
    "    ]\n",
    "\n",
    "    # crossover selection for minimal cost\n",
    "    population = [\n",
    "        crossover_routes_random_del(\n",
    "            population[n0], population[n1],\n",
    "            currents=_currents,\n",
    "            winds=_winds,\n",
    "            waves=_waves,\n",
    "        )\n",
    "        for n0, n1 in zip(\n",
    "            range(len(population)),\n",
    "            np.random.randint(0, len(population), size=(len(population), )),\n",
    "        )\n",
    "    ]\n",
    "\n",
    "    # compute and filter\n",
    "    population = [pc.compute() for pc in [pp.persist() for pp in population]]\n",
    "    cost = [p.logs.cost for p in population]\n",
    "    c20 = np.quantile(q=0.2, a=cost)\n",
    "    p20 = [p for p in population if p.logs.cost <= c20]\n",
    "    population = list(np.random.choice(p20, size=(population_size, )))\n",
    "    \n",
    "    generations.append(population)\n",
    "\n",
    "    len_0 /= 1.5"
   ]
  },
  {
   "cell_type": "code",
   "execution_count": null,
   "id": "8e47dbc4-2b38-4720-b435-261ad32ed2bc",
   "metadata": {},
   "outputs": [],
   "source": [
    "cost = [rl.logs.cost for rl in population]\n",
    "lengths = [rl.route.length_meters for rl in population]"
   ]
  },
  {
   "cell_type": "code",
   "execution_count": null,
   "id": "ddcdc671-1d35-4ed1-a5aa-6b71decb0611",
   "metadata": {},
   "outputs": [],
   "source": [
    "plt.hist(pd.Series(cost).where(pd.Series(cost) < pd.Series(cost).quantile(0.99)).dropna())"
   ]
  },
  {
   "cell_type": "code",
   "execution_count": null,
   "id": "dff9091c-ce1c-4584-9e93-b9861f0cda4e",
   "metadata": {},
   "outputs": [],
   "source": [
    "route_0.cost_through(currents, winds, waves)"
   ]
  },
  {
   "cell_type": "code",
   "execution_count": null,
   "id": "fcb1d0be-94d0-46cf-8ce1-0f483ff4e6bc",
   "metadata": {},
   "outputs": [],
   "source": [
    "np.min(cost) / route_0.cost_through(currents, winds, waves)"
   ]
  },
  {
   "cell_type": "code",
   "execution_count": null,
   "id": "5739703a-1a13-4581-83da-08cd13be0d40",
   "metadata": {},
   "outputs": [],
   "source": [
    "imin = np.argmin(cost)\n",
    "imin"
   ]
  },
  {
   "cell_type": "code",
   "execution_count": null,
   "id": "24cb7ee6-eee1-45af-b523-a40198add130",
   "metadata": {},
   "outputs": [],
   "source": [
    "population[imin].route.cost_through(currents, winds, waves) / route_0.cost_through(currents, winds, waves)"
   ]
  },
  {
   "cell_type": "code",
   "execution_count": null,
   "id": "39b65e4a-597a-450b-ade0-136c14336c10",
   "metadata": {},
   "outputs": [],
   "source": [
    "r_min = population[imin]"
   ]
  },
  {
   "cell_type": "code",
   "execution_count": null,
   "id": "8075e630-7801-497e-9328-8130371bb7fa",
   "metadata": {},
   "outputs": [],
   "source": [
    "len(r_min.route)"
   ]
  },
  {
   "cell_type": "code",
   "execution_count": null,
   "id": "4189d6ca-b90e-4eb8-8afb-3540bb40f4dc",
   "metadata": {},
   "outputs": [],
   "source": [
    "r_min_grad = gradient_descent(\n",
    "    route=r_min.route,\n",
    "    num_iterations=3,\n",
    "    current_data_set=currents,\n",
    "    wind_data_set=winds,\n",
    "    wave_data_set=waves,\n",
    ")"
   ]
  },
  {
   "cell_type": "code",
   "execution_count": null,
   "id": "67505af7-5563-41cd-b9b0-ec4c251ddae1",
   "metadata": {},
   "outputs": [],
   "source": [
    "print(r_min.route.cost_through(currents, winds, waves))\n",
    "print(r_min_grad[0].cost_through(currents, winds, waves))"
   ]
  },
  {
   "cell_type": "code",
   "execution_count": null,
   "id": "1fafa6e4-57df-4e95-8fad-9b4e53d83f28",
   "metadata": {},
   "outputs": [],
   "source": [
    "for lr in population:\n",
    "    plt.plot(*lr.route.line_string.xy, color=\"k\", alpha=0.1);"
   ]
  }
 ],
 "metadata": {
  "kernelspec": {
   "display_name": "Python 3 (ipykernel)",
   "language": "python",
   "name": "python3"
  },
  "language_info": {
   "codemirror_mode": {
    "name": "ipython",
    "version": 3
   },
   "file_extension": ".py",
   "mimetype": "text/x-python",
   "name": "python",
   "nbconvert_exporter": "python",
   "pygments_lexer": "ipython3",
   "version": "3.13.2"
  }
 },
 "nbformat": 4,
 "nbformat_minor": 5
}
